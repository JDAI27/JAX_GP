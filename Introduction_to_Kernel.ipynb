{
 "cells": [
  {
   "cell_type": "markdown",
   "id": "3c5e31d8-5615-4734-af49-c14d72d52ccb",
   "metadata": {
    "tags": []
   },
   "source": [
    "# Introduction to Basics Operation"
   ]
  },
  {
   "cell_type": "code",
   "execution_count": 1,
   "id": "ec1b49cc-dcdc-4f78-80ef-4246b7854bc7",
   "metadata": {},
   "outputs": [],
   "source": [
    "import jax\n",
    "import jax.numpy as jnp\n",
    "from jax import jit\n",
    "import matplotlib.pylab as plt\n",
    "\n",
    "import sys\n",
    "sys.path.append('code')\n",
    "\n",
    "%matplotlib inline"
   ]
  },
  {
   "cell_type": "markdown",
   "id": "690fa8fb-ab78-4e94-9d25-3d832b6c3f05",
   "metadata": {},
   "source": [
    "Loading some packages."
   ]
  },
  {
   "cell_type": "markdown",
   "id": "80934888-04c8-424e-8e62-185b8d38cdff",
   "metadata": {
    "tags": []
   },
   "source": [
    "## Building a Kernel \n",
    "\n",
    "### Linear Kenrel (dot product kernel)\n",
    "\n",
    "We use a simple dot product kernel as a example. The dot product kernel can be defined as\n",
    "                                $\\\\ K(X_1,X_2) = X_1*X_2 + \\sigma^2\\\\$\n",
    "where X1,X2 are the inputs, and $\\sigma$ is the only kernel parameter. With 'Kernel' class and a function implement a specified kernel."
   ]
  },
  {
   "cell_type": "code",
   "execution_count": 2,
   "id": "09672b94-2824-4e0e-8155-707fb1731a3a",
   "metadata": {},
   "outputs": [],
   "source": [
    "from Kernel import Kernel\n",
    "def dotproduct(X1,X2,params):\n",
    "    # params[0] is sigma \n",
    "    return X1.dot(X2.T) + params[0]\n",
    "\n",
    "# JIT wapper to speed up\n",
    "dotproduct = jit(dotproduct)\n",
    "\n",
    "# Therefore, the kernel can be constructed as\n",
    "Num_params = 1\n",
    "dp1 = Kernel(dotproduct,Num_params, jnp.ones(Num_params), [(1e-5, 1e5)] * Num_params, kernel_name='dp')"
   ]
  },
  {
   "cell_type": "markdown",
   "id": "f648dc61-32d5-47fa-80d4-769aba0c2878",
   "metadata": {},
   "source": [
    "'[(1e-5, 1e5)] * Num_params' is the bounds. \\\n",
    "Give a example of dataset"
   ]
  },
  {
   "cell_type": "code",
   "execution_count": 3,
   "id": "8369e407-92c2-4f49-a8cb-843d20838943",
   "metadata": {},
   "outputs": [
    {
     "data": {
      "image/png": "[encoded data removed]",
      "text/plain": [
       "<Figure size 640x480 with 1 Axes>"
      ]
     },
     "metadata": {},
     "output_type": "display_data"
    },
    {
     "data": {
      "image/png": "[encoded data removed]",
      "text/plain": [
       "<Figure size 640x480 with 1 Axes>"
      ]
     },
     "metadata": {},
     "output_type": "display_data"
    }
   ],
   "source": [
    "def f(X):\n",
    "    return jnp.sin(3 * X[:, 0] + 10 * X[:, 1])*X[:, 0]\n",
    "\n",
    "Num_points = 50\n",
    "X = jnp.array([jnp.linspace(0, 1, Num_points),jnp.linspace(-1, 0, Num_points)]).T\n",
    "y = f(X) +jax.random.uniform(jax.random.PRNGKey(0), (Num_points, ))*0.0001 # add some random noisy \n",
    "\n",
    "\n",
    "plt.plot(X[:,0],y,\"bs\")\n",
    "plt.show()\n",
    "plt.plot(X[:,1],y,\"ro\")\n",
    "plt.show()"
   ]
  },
  {
   "cell_type": "markdown",
   "id": "09688b33-70d3-489c-b1fc-ad869147ecb7",
   "metadata": {},
   "source": [
    "We can compute the kernel by"
   ]
  },
  {
   "cell_type": "code",
   "execution_count": 4,
   "id": "cfd76e20-4200-4757-a661-f0b4942862f8",
   "metadata": {},
   "outputs": [
    {
     "data": {
      "text/plain": [
       "Array([[2.       , 1.9795918, 1.9591837, ..., 1.0408163, 1.0204082,\n",
       "        1.       ],\n",
       "       [1.9795918, 1.9600167, 1.9404415, ..., 1.0595585, 1.0399834,\n",
       "        1.0204082],\n",
       "       [1.9591837, 1.9404415, 1.9216993, ..., 1.0783007, 1.0595585,\n",
       "        1.0408163],\n",
       "       ...,\n",
       "       [1.0408163, 1.0595585, 1.0783007, ..., 1.9216992, 1.9404414,\n",
       "        1.9591837],\n",
       "       [1.0204082, 1.0399834, 1.0595585, ..., 1.9404414, 1.9600167,\n",
       "        1.9795918],\n",
       "       [1.       , 1.0204082, 1.0408163, ..., 1.9591837, 1.9795918,\n",
       "        2.       ]], dtype=float32)"
      ]
     },
     "execution_count": 4,
     "metadata": {},
     "output_type": "execute_result"
    }
   ],
   "source": [
    "dp1(X,X)"
   ]
  },
  {
   "cell_type": "markdown",
   "id": "8844dbcc-2b45-4815-8c67-13afa860609c",
   "metadata": {},
   "source": [
    "Thanks to JAX, Jacobian of the kernel fucntion with respect to the kernel parameters can be calculated with forward mode. See https://jax.readthedocs.io/en/latest/notebooks/autodiff_cookbook.html"
   ]
  },
  {
   "cell_type": "code",
   "execution_count": 5,
   "id": "c78b5f00-096c-45af-802b-f3a822b89b4b",
   "metadata": {},
   "outputs": [
    {
     "data": {
      "text/plain": [
       "(50, 50, 1)"
      ]
     },
     "execution_count": 5,
     "metadata": {},
     "output_type": "execute_result"
    }
   ],
   "source": [
    "#from jax import jacfwd\n",
    "#dp1_Jaco = jit(jacfwd(dp1,argnums=2))\n",
    "dp1_Jaco = dp1.gradient\n",
    "dp1_Jaco(X,X).shape"
   ]
  },
  {
   "cell_type": "markdown",
   "id": "300f2aeb-6da6-4516-86c7-0ed1db4d37dc",
   "metadata": {},
   "source": [
    "The shape of Jacobian should be in shape of (n,n,Num_params).\n",
    "\n",
    "### RBF Kernel\n",
    "\n",
    "The de-facto default kernel for Gaussian processes. The kernel computes the similarity between two data points by measuring the distance between them and mapping them into a high-dimensional space. The length scale $\\ell$ controls how much two points in the input space need to be separated before the kernel function drops to zero. A large length scale means that the kernel function will be relatively smooth and vary slowly with changes in the input, while a small length scale means that the function will be more wiggly and responsive to small changes in the input.\n",
    "\n",
    "\n",
    "\n",
    "$k_{\\mathrm{RBF}}\\left(x, x^{\\prime}\\right)=\\sigma^2 \\exp \\left(-\\frac{\\left(x-x^{\\prime}\\right)^2}{2 \\ell^2}\\right)$"
   ]
  },
  {
   "cell_type": "code",
   "execution_count": 6,
   "id": "6eb1a610-3491-414d-b2f4-d018e2cd1963",
   "metadata": {},
   "outputs": [],
   "source": [
    "def rbf_kernel(X1, X2, params):\n",
    "    params = jnp.array(params)\n",
    "    if len(params) == 1:\n",
    "        # isotropic RBF kernel with length scale = params[0]\n",
    "        sq_norm = jnp.sum((X1[:, jnp.newaxis, :] - X2[jnp.newaxis, :, :]) ** 2, axis=-1)\n",
    "        return jnp.exp(-0.5 * sq_norm / params[0] ** 2)\n",
    "    elif len(params) == X1.shape[-1]:\n",
    "        # ARD (automatic relevance determination) kernel with length scales = params\n",
    "        sq_diff = (X1[:, jnp.newaxis, :] - X2[jnp.newaxis, :, :]) ** 2\n",
    "        return jnp.exp(-0.5 * jnp.sum(sq_diff / params ** 2, axis=-1))\n",
    "    else:\n",
    "        raise ValueError(\"Incorrect number of parameters for RBF kernel\")\n",
    "        \n",
    "# JIT wapper to speed up\n",
    "rbf = jit(rbf_kernel)\n",
    "\n",
    "# Therefore, RBF kernel can be constructed as\n",
    "Num_params = 2\n",
    "rbf1 = Kernel(rbf,Num_params, jnp.ones(Num_params), [(1e-5, 1e5)] * Num_params, kernel_name='dp')"
   ]
  },
  {
   "cell_type": "code",
   "execution_count": 7,
   "id": "0bb93289-b660-482b-ac69-2e79687e4b2f",
   "metadata": {},
   "outputs": [
    {
     "data": {
      "text/plain": [
       "(Array([[1.        , 0.9995836 , 0.9983354 , ..., 0.3985058 , 0.383046  ,\n",
       "         0.36787945],\n",
       "        [0.9995836 , 1.        , 0.9995836 , ..., 0.4142443 , 0.39850575,\n",
       "         0.383046  ],\n",
       "        [0.9983354 , 0.9995836 , 1.        , ..., 0.43024582, 0.41424426,\n",
       "         0.39850575],\n",
       "        ...,\n",
       "        [0.3985058 , 0.4142443 , 0.43024582, ..., 1.        , 0.9995836 ,\n",
       "         0.9983354 ],\n",
       "        [0.383046  , 0.39850575, 0.41424426, ..., 0.9995836 , 1.        ,\n",
       "         0.9995836 ],\n",
       "        [0.36787945, 0.383046  , 0.39850575, ..., 0.9983354 , 0.9995836 ,\n",
       "         1.        ]], dtype=float32),\n",
       " (50, 50, 2))"
      ]
     },
     "execution_count": 7,
     "metadata": {},
     "output_type": "execute_result"
    }
   ],
   "source": [
    "rbf1(X,X), rbf1.gradient(X,X).shape"
   ]
  },
  {
   "cell_type": "code",
   "execution_count": null,
   "id": "4737943a-9274-4675-a0a0-0c7cbc7d09ee",
   "metadata": {},
   "outputs": [],
   "source": []
  }
 ],
 "metadata": {
  "kernelspec": {
   "display_name": "Python 3 (ipykernel)",
   "language": "python",
   "name": "python3"
  },
  "language_info": {
   "codemirror_mode": {
    "name": "ipython",
    "version": 3
   },
   "file_extension": ".py",
   "mimetype": "text/x-python",
   "name": "python",
   "nbconvert_exporter": "python",
   "pygments_lexer": "ipython3",
   "version": "3.11.0"
  }
 },
 "nbformat": 4,
 "nbformat_minor": 5
}
